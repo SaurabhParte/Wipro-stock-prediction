{
 "cells": [
  {
   "cell_type": "code",
   "execution_count": 1,
   "metadata": {},
   "outputs": [],
   "source": [
    "import numpy as np\n",
    "import pandas as pd\n",
    "import matplotlib.pyplot as plt\n",
    "import seaborn as sns"
   ]
  },
  {
   "cell_type": "code",
   "execution_count": 2,
   "metadata": {},
   "outputs": [],
   "source": [
    "data=pd.read_csv(r\"C:\\Users\\pc\\Downloads\\WIPRO.csv\")"
   ]
  },
  {
   "cell_type": "code",
   "execution_count": 3,
   "metadata": {},
   "outputs": [
    {
     "data": {
      "text/html": [
       "<div>\n",
       "<style scoped>\n",
       "    .dataframe tbody tr th:only-of-type {\n",
       "        vertical-align: middle;\n",
       "    }\n",
       "\n",
       "    .dataframe tbody tr th {\n",
       "        vertical-align: top;\n",
       "    }\n",
       "\n",
       "    .dataframe thead th {\n",
       "        text-align: right;\n",
       "    }\n",
       "</style>\n",
       "<table border=\"1\" class=\"dataframe\">\n",
       "  <thead>\n",
       "    <tr style=\"text-align: right;\">\n",
       "      <th></th>\n",
       "      <th>Date</th>\n",
       "      <th>Open</th>\n",
       "      <th>High</th>\n",
       "      <th>Low</th>\n",
       "      <th>Close</th>\n",
       "      <th>Adj Close</th>\n",
       "      <th>Volume</th>\n",
       "    </tr>\n",
       "  </thead>\n",
       "  <tbody>\n",
       "    <tr>\n",
       "      <th>0</th>\n",
       "      <td>18-01-2010</td>\n",
       "      <td>222.600006</td>\n",
       "      <td>225.300003</td>\n",
       "      <td>220.199997</td>\n",
       "      <td>224.250000</td>\n",
       "      <td>176.515015</td>\n",
       "      <td>1089152</td>\n",
       "    </tr>\n",
       "    <tr>\n",
       "      <th>1</th>\n",
       "      <td>19-01-2010</td>\n",
       "      <td>222.000000</td>\n",
       "      <td>224.565002</td>\n",
       "      <td>218.699997</td>\n",
       "      <td>221.235001</td>\n",
       "      <td>174.141769</td>\n",
       "      <td>842248</td>\n",
       "    </tr>\n",
       "    <tr>\n",
       "      <th>2</th>\n",
       "      <td>20-01-2010</td>\n",
       "      <td>222.000000</td>\n",
       "      <td>225.899994</td>\n",
       "      <td>216.750000</td>\n",
       "      <td>217.619995</td>\n",
       "      <td>171.296326</td>\n",
       "      <td>1254969</td>\n",
       "    </tr>\n",
       "    <tr>\n",
       "      <th>3</th>\n",
       "      <td>21-01-2010</td>\n",
       "      <td>217.500000</td>\n",
       "      <td>221.699997</td>\n",
       "      <td>211.889999</td>\n",
       "      <td>212.744995</td>\n",
       "      <td>167.458984</td>\n",
       "      <td>1160336</td>\n",
       "    </tr>\n",
       "    <tr>\n",
       "      <th>4</th>\n",
       "      <td>22-01-2010</td>\n",
       "      <td>209.699997</td>\n",
       "      <td>212.699997</td>\n",
       "      <td>208.500000</td>\n",
       "      <td>209.970001</td>\n",
       "      <td>165.274689</td>\n",
       "      <td>603391</td>\n",
       "    </tr>\n",
       "  </tbody>\n",
       "</table>\n",
       "</div>"
      ],
      "text/plain": [
       "         Date        Open        High         Low       Close   Adj Close  \\\n",
       "0  18-01-2010  222.600006  225.300003  220.199997  224.250000  176.515015   \n",
       "1  19-01-2010  222.000000  224.565002  218.699997  221.235001  174.141769   \n",
       "2  20-01-2010  222.000000  225.899994  216.750000  217.619995  171.296326   \n",
       "3  21-01-2010  217.500000  221.699997  211.889999  212.744995  167.458984   \n",
       "4  22-01-2010  209.699997  212.699997  208.500000  209.970001  165.274689   \n",
       "\n",
       "    Volume  \n",
       "0  1089152  \n",
       "1   842248  \n",
       "2  1254969  \n",
       "3  1160336  \n",
       "4   603391  "
      ]
     },
     "execution_count": 3,
     "metadata": {},
     "output_type": "execute_result"
    }
   ],
   "source": [
    "data.head()"
   ]
  },
  {
   "cell_type": "code",
   "execution_count": 4,
   "metadata": {},
   "outputs": [
    {
     "data": {
      "text/plain": [
       "(2003, 7)"
      ]
     },
     "execution_count": 4,
     "metadata": {},
     "output_type": "execute_result"
    }
   ],
   "source": [
    "data.shape"
   ]
  },
  {
   "cell_type": "code",
   "execution_count": 5,
   "metadata": {},
   "outputs": [
    {
     "data": {
      "text/html": [
       "<div>\n",
       "<style scoped>\n",
       "    .dataframe tbody tr th:only-of-type {\n",
       "        vertical-align: middle;\n",
       "    }\n",
       "\n",
       "    .dataframe tbody tr th {\n",
       "        vertical-align: top;\n",
       "    }\n",
       "\n",
       "    .dataframe thead th {\n",
       "        text-align: right;\n",
       "    }\n",
       "</style>\n",
       "<table border=\"1\" class=\"dataframe\">\n",
       "  <thead>\n",
       "    <tr style=\"text-align: right;\">\n",
       "      <th></th>\n",
       "      <th>Date</th>\n",
       "      <th>Open</th>\n",
       "      <th>High</th>\n",
       "      <th>Low</th>\n",
       "      <th>Close</th>\n",
       "      <th>Adj Close</th>\n",
       "      <th>Volume</th>\n",
       "    </tr>\n",
       "  </thead>\n",
       "  <tbody>\n",
       "    <tr>\n",
       "      <th>1998</th>\n",
       "      <td>14-02-2018</td>\n",
       "      <td>287.899994</td>\n",
       "      <td>296.700012</td>\n",
       "      <td>287.899994</td>\n",
       "      <td>293.000000</td>\n",
       "      <td>293.000000</td>\n",
       "      <td>129732</td>\n",
       "    </tr>\n",
       "    <tr>\n",
       "      <th>1999</th>\n",
       "      <td>15-02-2018</td>\n",
       "      <td>294.000000</td>\n",
       "      <td>295.100006</td>\n",
       "      <td>290.700012</td>\n",
       "      <td>291.549988</td>\n",
       "      <td>291.549988</td>\n",
       "      <td>71678</td>\n",
       "    </tr>\n",
       "    <tr>\n",
       "      <th>2000</th>\n",
       "      <td>16-02-2018</td>\n",
       "      <td>294.399994</td>\n",
       "      <td>295.649994</td>\n",
       "      <td>289.850006</td>\n",
       "      <td>290.700012</td>\n",
       "      <td>290.700012</td>\n",
       "      <td>542262</td>\n",
       "    </tr>\n",
       "    <tr>\n",
       "      <th>2001</th>\n",
       "      <td>19-02-2018</td>\n",
       "      <td>292.600006</td>\n",
       "      <td>294.549988</td>\n",
       "      <td>288.649994</td>\n",
       "      <td>290.049988</td>\n",
       "      <td>290.049988</td>\n",
       "      <td>264422</td>\n",
       "    </tr>\n",
       "    <tr>\n",
       "      <th>2002</th>\n",
       "      <td>20-02-2018</td>\n",
       "      <td>288.549988</td>\n",
       "      <td>292.850006</td>\n",
       "      <td>288.549988</td>\n",
       "      <td>291.350006</td>\n",
       "      <td>291.350006</td>\n",
       "      <td>218688</td>\n",
       "    </tr>\n",
       "  </tbody>\n",
       "</table>\n",
       "</div>"
      ],
      "text/plain": [
       "            Date        Open        High         Low       Close   Adj Close  \\\n",
       "1998  14-02-2018  287.899994  296.700012  287.899994  293.000000  293.000000   \n",
       "1999  15-02-2018  294.000000  295.100006  290.700012  291.549988  291.549988   \n",
       "2000  16-02-2018  294.399994  295.649994  289.850006  290.700012  290.700012   \n",
       "2001  19-02-2018  292.600006  294.549988  288.649994  290.049988  290.049988   \n",
       "2002  20-02-2018  288.549988  292.850006  288.549988  291.350006  291.350006   \n",
       "\n",
       "      Volume  \n",
       "1998  129732  \n",
       "1999   71678  \n",
       "2000  542262  \n",
       "2001  264422  \n",
       "2002  218688  "
      ]
     },
     "execution_count": 5,
     "metadata": {},
     "output_type": "execute_result"
    }
   ],
   "source": [
    "data.tail()"
   ]
  },
  {
   "cell_type": "code",
   "execution_count": 6,
   "metadata": {},
   "outputs": [
    {
     "data": {
      "text/html": [
       "<div>\n",
       "<style scoped>\n",
       "    .dataframe tbody tr th:only-of-type {\n",
       "        vertical-align: middle;\n",
       "    }\n",
       "\n",
       "    .dataframe tbody tr th {\n",
       "        vertical-align: top;\n",
       "    }\n",
       "\n",
       "    .dataframe thead th {\n",
       "        text-align: right;\n",
       "    }\n",
       "</style>\n",
       "<table border=\"1\" class=\"dataframe\">\n",
       "  <thead>\n",
       "    <tr style=\"text-align: right;\">\n",
       "      <th></th>\n",
       "      <th>Open</th>\n",
       "      <th>High</th>\n",
       "      <th>Low</th>\n",
       "      <th>Close</th>\n",
       "      <th>Adj Close</th>\n",
       "      <th>Volume</th>\n",
       "    </tr>\n",
       "  </thead>\n",
       "  <tbody>\n",
       "    <tr>\n",
       "      <th>count</th>\n",
       "      <td>2003.000000</td>\n",
       "      <td>2003.000000</td>\n",
       "      <td>2003.000000</td>\n",
       "      <td>2003.000000</td>\n",
       "      <td>2003.000000</td>\n",
       "      <td>2.003000e+03</td>\n",
       "    </tr>\n",
       "    <tr>\n",
       "      <th>mean</th>\n",
       "      <td>696.546377</td>\n",
       "      <td>699.253029</td>\n",
       "      <td>238.389881</td>\n",
       "      <td>241.128922</td>\n",
       "      <td>218.606876</td>\n",
       "      <td>3.427757e+05</td>\n",
       "    </tr>\n",
       "    <tr>\n",
       "      <th>std</th>\n",
       "      <td>20347.656067</td>\n",
       "      <td>20348.847744</td>\n",
       "      <td>41.018490</td>\n",
       "      <td>41.153599</td>\n",
       "      <td>51.287299</td>\n",
       "      <td>5.121416e+05</td>\n",
       "    </tr>\n",
       "    <tr>\n",
       "      <th>min</th>\n",
       "      <td>160.000000</td>\n",
       "      <td>163.925003</td>\n",
       "      <td>155.100006</td>\n",
       "      <td>159.625000</td>\n",
       "      <td>131.595993</td>\n",
       "      <td>0.000000e+00</td>\n",
       "    </tr>\n",
       "    <tr>\n",
       "      <th>25%</th>\n",
       "      <td>206.025002</td>\n",
       "      <td>208.974998</td>\n",
       "      <td>203.474998</td>\n",
       "      <td>206.075005</td>\n",
       "      <td>168.798927</td>\n",
       "      <td>1.369270e+05</td>\n",
       "    </tr>\n",
       "    <tr>\n",
       "      <th>50%</th>\n",
       "      <td>240.000000</td>\n",
       "      <td>242.250000</td>\n",
       "      <td>237.125000</td>\n",
       "      <td>239.550003</td>\n",
       "      <td>225.569839</td>\n",
       "      <td>2.166140e+05</td>\n",
       "    </tr>\n",
       "    <tr>\n",
       "      <th>75%</th>\n",
       "      <td>278.125000</td>\n",
       "      <td>280.737503</td>\n",
       "      <td>275.000000</td>\n",
       "      <td>277.675003</td>\n",
       "      <td>265.517135</td>\n",
       "      <td>3.592940e+05</td>\n",
       "    </tr>\n",
       "    <tr>\n",
       "      <th>max</th>\n",
       "      <td>910897.000000</td>\n",
       "      <td>910953.000000</td>\n",
       "      <td>331.649994</td>\n",
       "      <td>335.975006</td>\n",
       "      <td>330.821350</td>\n",
       "      <td>8.897512e+06</td>\n",
       "    </tr>\n",
       "  </tbody>\n",
       "</table>\n",
       "</div>"
      ],
      "text/plain": [
       "                Open           High          Low        Close    Adj Close  \\\n",
       "count    2003.000000    2003.000000  2003.000000  2003.000000  2003.000000   \n",
       "mean      696.546377     699.253029   238.389881   241.128922   218.606876   \n",
       "std     20347.656067   20348.847744    41.018490    41.153599    51.287299   \n",
       "min       160.000000     163.925003   155.100006   159.625000   131.595993   \n",
       "25%       206.025002     208.974998   203.474998   206.075005   168.798927   \n",
       "50%       240.000000     242.250000   237.125000   239.550003   225.569839   \n",
       "75%       278.125000     280.737503   275.000000   277.675003   265.517135   \n",
       "max    910897.000000  910953.000000   331.649994   335.975006   330.821350   \n",
       "\n",
       "             Volume  \n",
       "count  2.003000e+03  \n",
       "mean   3.427757e+05  \n",
       "std    5.121416e+05  \n",
       "min    0.000000e+00  \n",
       "25%    1.369270e+05  \n",
       "50%    2.166140e+05  \n",
       "75%    3.592940e+05  \n",
       "max    8.897512e+06  "
      ]
     },
     "execution_count": 6,
     "metadata": {},
     "output_type": "execute_result"
    }
   ],
   "source": [
    "data.describe()"
   ]
  },
  {
   "cell_type": "code",
   "execution_count": 7,
   "metadata": {},
   "outputs": [
    {
     "data": {
      "text/plain": [
       "Date          object\n",
       "Open         float64\n",
       "High         float64\n",
       "Low          float64\n",
       "Close        float64\n",
       "Adj Close    float64\n",
       "Volume         int64\n",
       "dtype: object"
      ]
     },
     "execution_count": 7,
     "metadata": {},
     "output_type": "execute_result"
    }
   ],
   "source": [
    "data.dtypes"
   ]
  },
  {
   "cell_type": "code",
   "execution_count": 8,
   "metadata": {},
   "outputs": [
    {
     "name": "stdout",
     "output_type": "stream",
     "text": [
      "<class 'pandas.core.frame.DataFrame'>\n",
      "RangeIndex: 2003 entries, 0 to 2002\n",
      "Data columns (total 7 columns):\n",
      "Date         2003 non-null object\n",
      "Open         2003 non-null float64\n",
      "High         2003 non-null float64\n",
      "Low          2003 non-null float64\n",
      "Close        2003 non-null float64\n",
      "Adj Close    2003 non-null float64\n",
      "Volume       2003 non-null int64\n",
      "dtypes: float64(5), int64(1), object(1)\n",
      "memory usage: 109.6+ KB\n"
     ]
    }
   ],
   "source": [
    "data.info()"
   ]
  },
  {
   "cell_type": "code",
   "execution_count": 9,
   "metadata": {},
   "outputs": [
    {
     "data": {
      "text/plain": [
       "Date         0\n",
       "Open         0\n",
       "High         0\n",
       "Low          0\n",
       "Close        0\n",
       "Adj Close    0\n",
       "Volume       0\n",
       "dtype: int64"
      ]
     },
     "execution_count": 9,
     "metadata": {},
     "output_type": "execute_result"
    }
   ],
   "source": [
    "data.isnull().sum()"
   ]
  },
  {
   "cell_type": "code",
   "execution_count": 10,
   "metadata": {},
   "outputs": [
    {
     "data": {
      "text/html": [
       "<div>\n",
       "<style scoped>\n",
       "    .dataframe tbody tr th:only-of-type {\n",
       "        vertical-align: middle;\n",
       "    }\n",
       "\n",
       "    .dataframe tbody tr th {\n",
       "        vertical-align: top;\n",
       "    }\n",
       "\n",
       "    .dataframe thead th {\n",
       "        text-align: right;\n",
       "    }\n",
       "</style>\n",
       "<table border=\"1\" class=\"dataframe\">\n",
       "  <thead>\n",
       "    <tr style=\"text-align: right;\">\n",
       "      <th></th>\n",
       "      <th>Date</th>\n",
       "      <th>Open</th>\n",
       "      <th>High</th>\n",
       "      <th>Low</th>\n",
       "      <th>Close</th>\n",
       "      <th>Adj Close</th>\n",
       "      <th>Volume</th>\n",
       "    </tr>\n",
       "  </thead>\n",
       "  <tbody>\n",
       "  </tbody>\n",
       "</table>\n",
       "</div>"
      ],
      "text/plain": [
       "Empty DataFrame\n",
       "Columns: [Date, Open, High, Low, Close, Adj Close, Volume]\n",
       "Index: []"
      ]
     },
     "execution_count": 10,
     "metadata": {},
     "output_type": "execute_result"
    }
   ],
   "source": [
    "data[data.duplicated()]"
   ]
  },
  {
   "cell_type": "code",
   "execution_count": 11,
   "metadata": {},
   "outputs": [],
   "source": [
    "dat=data.dropna()"
   ]
  },
  {
   "cell_type": "code",
   "execution_count": 12,
   "metadata": {},
   "outputs": [
    {
     "data": {
      "text/plain": [
       "(2003, 7)"
      ]
     },
     "execution_count": 12,
     "metadata": {},
     "output_type": "execute_result"
    }
   ],
   "source": [
    "dat.shape"
   ]
  },
  {
   "cell_type": "code",
   "execution_count": 13,
   "metadata": {},
   "outputs": [
    {
     "data": {
      "text/plain": [
       "Date         0\n",
       "Open         0\n",
       "High         0\n",
       "Low          0\n",
       "Close        0\n",
       "Adj Close    0\n",
       "Volume       0\n",
       "dtype: int64"
      ]
     },
     "execution_count": 13,
     "metadata": {},
     "output_type": "execute_result"
    }
   ],
   "source": [
    "dat.isnull().sum()"
   ]
  },
  {
   "cell_type": "code",
   "execution_count": 14,
   "metadata": {},
   "outputs": [
    {
     "name": "stdout",
     "output_type": "stream",
     "text": [
      "<class 'pandas.core.frame.DataFrame'>\n",
      "Int64Index: 2003 entries, 0 to 2002\n",
      "Data columns (total 7 columns):\n",
      "Date         2003 non-null object\n",
      "Open         2003 non-null float64\n",
      "High         2003 non-null float64\n",
      "Low          2003 non-null float64\n",
      "Close        2003 non-null float64\n",
      "Adj Close    2003 non-null float64\n",
      "Volume       2003 non-null int64\n",
      "dtypes: float64(5), int64(1), object(1)\n",
      "memory usage: 125.2+ KB\n"
     ]
    }
   ],
   "source": [
    "dat.info()"
   ]
  },
  {
   "cell_type": "code",
   "execution_count": null,
   "metadata": {},
   "outputs": [],
   "source": []
  },
  {
   "cell_type": "code",
   "execution_count": 15,
   "metadata": {},
   "outputs": [
    {
     "data": {
      "image/png": "[encoded data removed]",
      "text/plain": [
       "<Figure size 1152x576 with 1 Axes>"
      ]
     },
     "metadata": {
      "needs_background": "light"
     },
     "output_type": "display_data"
    }
   ],
   "source": [
    "plt.figure(figsize=(16,8))\n",
    "plt.title('Close Price Histroy')\n",
    "plt.plot(data['Close'])\n",
    "plt.xlabel('Date',fontsize=18)\n",
    "plt.ylabel('Close Price USD ($)', fontsize=18)\n",
    "plt.show()"
   ]
  },
  {
   "cell_type": "code",
   "execution_count": 16,
   "metadata": {},
   "outputs": [],
   "source": [
    "from sklearn import svm\n",
    "from sklearn.svm import SVC \n",
    "from sklearn.metrics import confusion_matrix, classification_report, accuracy_score\n",
    "from sklearn.preprocessing import StandardScaler, LabelEncoder\n",
    "from sklearn.model_selection import train_test_split"
   ]
  },
  {
   "cell_type": "code",
   "execution_count": 17,
   "metadata": {},
   "outputs": [],
   "source": [
    "data=dat.drop(['Date','Adj Close','Volume'],axis=1)"
   ]
  },
  {
   "cell_type": "code",
   "execution_count": 18,
   "metadata": {},
   "outputs": [
    {
     "data": {
      "text/plain": [
       "159.625"
      ]
     },
     "execution_count": 18,
     "metadata": {},
     "output_type": "execute_result"
    }
   ],
   "source": [
    "min_value=data['Close'].min()\n",
    "min_value"
   ]
  },
  {
   "cell_type": "code",
   "execution_count": 19,
   "metadata": {},
   "outputs": [
    {
     "data": {
      "text/plain": [
       "335.975006"
      ]
     },
     "execution_count": 19,
     "metadata": {},
     "output_type": "execute_result"
    }
   ],
   "source": [
    "max_value=data['Close'].max()\n",
    "max_value"
   ]
  },
  {
   "cell_type": "code",
   "execution_count": 20,
   "metadata": {},
   "outputs": [
    {
     "data": {
      "text/html": [
       "<div>\n",
       "<style scoped>\n",
       "    .dataframe tbody tr th:only-of-type {\n",
       "        vertical-align: middle;\n",
       "    }\n",
       "\n",
       "    .dataframe tbody tr th {\n",
       "        vertical-align: top;\n",
       "    }\n",
       "\n",
       "    .dataframe thead th {\n",
       "        text-align: right;\n",
       "    }\n",
       "</style>\n",
       "<table border=\"1\" class=\"dataframe\">\n",
       "  <thead>\n",
       "    <tr style=\"text-align: right;\">\n",
       "      <th></th>\n",
       "      <th>Open</th>\n",
       "      <th>High</th>\n",
       "      <th>Low</th>\n",
       "      <th>Close</th>\n",
       "    </tr>\n",
       "  </thead>\n",
       "  <tbody>\n",
       "    <tr>\n",
       "      <th>0</th>\n",
       "      <td>222.600006</td>\n",
       "      <td>225.300003</td>\n",
       "      <td>220.199997</td>\n",
       "      <td>224.250000</td>\n",
       "    </tr>\n",
       "    <tr>\n",
       "      <th>1</th>\n",
       "      <td>222.000000</td>\n",
       "      <td>224.565002</td>\n",
       "      <td>218.699997</td>\n",
       "      <td>221.235001</td>\n",
       "    </tr>\n",
       "    <tr>\n",
       "      <th>2</th>\n",
       "      <td>222.000000</td>\n",
       "      <td>225.899994</td>\n",
       "      <td>216.750000</td>\n",
       "      <td>217.619995</td>\n",
       "    </tr>\n",
       "    <tr>\n",
       "      <th>3</th>\n",
       "      <td>217.500000</td>\n",
       "      <td>221.699997</td>\n",
       "      <td>211.889999</td>\n",
       "      <td>212.744995</td>\n",
       "    </tr>\n",
       "    <tr>\n",
       "      <th>4</th>\n",
       "      <td>209.699997</td>\n",
       "      <td>212.699997</td>\n",
       "      <td>208.500000</td>\n",
       "      <td>209.970001</td>\n",
       "    </tr>\n",
       "  </tbody>\n",
       "</table>\n",
       "</div>"
      ],
      "text/plain": [
       "         Open        High         Low       Close\n",
       "0  222.600006  225.300003  220.199997  224.250000\n",
       "1  222.000000  224.565002  218.699997  221.235001\n",
       "2  222.000000  225.899994  216.750000  217.619995\n",
       "3  217.500000  221.699997  211.889999  212.744995\n",
       "4  209.699997  212.699997  208.500000  209.970001"
      ]
     },
     "execution_count": 20,
     "metadata": {},
     "output_type": "execute_result"
    }
   ],
   "source": [
    "data.head()"
   ]
  },
  {
   "cell_type": "code",
   "execution_count": 21,
   "metadata": {},
   "outputs": [
    {
     "data": {
      "text/plain": [
       "(2003, 4)"
      ]
     },
     "execution_count": 21,
     "metadata": {},
     "output_type": "execute_result"
    }
   ],
   "source": [
    "data.shape"
   ]
  },
  {
   "cell_type": "code",
   "execution_count": 22,
   "metadata": {},
   "outputs": [],
   "source": [
    "bins=[150,200,250,300,350]\n",
    "group_names=['150-200','201-250','251-300','301-350']\n",
    "data['Close_bins']=pd.cut(data['Close'],bins,labels=group_names,include_lowest=True)"
   ]
  },
  {
   "cell_type": "code",
   "execution_count": 23,
   "metadata": {},
   "outputs": [
    {
     "data": {
      "text/html": [
       "<div>\n",
       "<style scoped>\n",
       "    .dataframe tbody tr th:only-of-type {\n",
       "        vertical-align: middle;\n",
       "    }\n",
       "\n",
       "    .dataframe tbody tr th {\n",
       "        vertical-align: top;\n",
       "    }\n",
       "\n",
       "    .dataframe thead th {\n",
       "        text-align: right;\n",
       "    }\n",
       "</style>\n",
       "<table border=\"1\" class=\"dataframe\">\n",
       "  <thead>\n",
       "    <tr style=\"text-align: right;\">\n",
       "      <th></th>\n",
       "      <th>Open</th>\n",
       "      <th>High</th>\n",
       "      <th>Low</th>\n",
       "      <th>Close</th>\n",
       "      <th>Close_bins</th>\n",
       "    </tr>\n",
       "  </thead>\n",
       "  <tbody>\n",
       "    <tr>\n",
       "      <th>0</th>\n",
       "      <td>222.600006</td>\n",
       "      <td>225.300003</td>\n",
       "      <td>220.199997</td>\n",
       "      <td>224.250000</td>\n",
       "      <td>201-250</td>\n",
       "    </tr>\n",
       "    <tr>\n",
       "      <th>1</th>\n",
       "      <td>222.000000</td>\n",
       "      <td>224.565002</td>\n",
       "      <td>218.699997</td>\n",
       "      <td>221.235001</td>\n",
       "      <td>201-250</td>\n",
       "    </tr>\n",
       "    <tr>\n",
       "      <th>2</th>\n",
       "      <td>222.000000</td>\n",
       "      <td>225.899994</td>\n",
       "      <td>216.750000</td>\n",
       "      <td>217.619995</td>\n",
       "      <td>201-250</td>\n",
       "    </tr>\n",
       "    <tr>\n",
       "      <th>3</th>\n",
       "      <td>217.500000</td>\n",
       "      <td>221.699997</td>\n",
       "      <td>211.889999</td>\n",
       "      <td>212.744995</td>\n",
       "      <td>201-250</td>\n",
       "    </tr>\n",
       "    <tr>\n",
       "      <th>4</th>\n",
       "      <td>209.699997</td>\n",
       "      <td>212.699997</td>\n",
       "      <td>208.500000</td>\n",
       "      <td>209.970001</td>\n",
       "      <td>201-250</td>\n",
       "    </tr>\n",
       "  </tbody>\n",
       "</table>\n",
       "</div>"
      ],
      "text/plain": [
       "         Open        High         Low       Close Close_bins\n",
       "0  222.600006  225.300003  220.199997  224.250000    201-250\n",
       "1  222.000000  224.565002  218.699997  221.235001    201-250\n",
       "2  222.000000  225.899994  216.750000  217.619995    201-250\n",
       "3  217.500000  221.699997  211.889999  212.744995    201-250\n",
       "4  209.699997  212.699997  208.500000  209.970001    201-250"
      ]
     },
     "execution_count": 23,
     "metadata": {},
     "output_type": "execute_result"
    }
   ],
   "source": [
    "data.head()"
   ]
  },
  {
   "cell_type": "code",
   "execution_count": 24,
   "metadata": {},
   "outputs": [],
   "source": [
    "data=data.drop(\"Close\", axis=1)"
   ]
  },
  {
   "cell_type": "code",
   "execution_count": 25,
   "metadata": {},
   "outputs": [
    {
     "data": {
      "text/html": [
       "<div>\n",
       "<style scoped>\n",
       "    .dataframe tbody tr th:only-of-type {\n",
       "        vertical-align: middle;\n",
       "    }\n",
       "\n",
       "    .dataframe tbody tr th {\n",
       "        vertical-align: top;\n",
       "    }\n",
       "\n",
       "    .dataframe thead th {\n",
       "        text-align: right;\n",
       "    }\n",
       "</style>\n",
       "<table border=\"1\" class=\"dataframe\">\n",
       "  <thead>\n",
       "    <tr style=\"text-align: right;\">\n",
       "      <th></th>\n",
       "      <th>Open</th>\n",
       "      <th>High</th>\n",
       "      <th>Low</th>\n",
       "      <th>Close_bins</th>\n",
       "    </tr>\n",
       "  </thead>\n",
       "  <tbody>\n",
       "    <tr>\n",
       "      <th>0</th>\n",
       "      <td>222.600006</td>\n",
       "      <td>225.300003</td>\n",
       "      <td>220.199997</td>\n",
       "      <td>201-250</td>\n",
       "    </tr>\n",
       "    <tr>\n",
       "      <th>1</th>\n",
       "      <td>222.000000</td>\n",
       "      <td>224.565002</td>\n",
       "      <td>218.699997</td>\n",
       "      <td>201-250</td>\n",
       "    </tr>\n",
       "    <tr>\n",
       "      <th>2</th>\n",
       "      <td>222.000000</td>\n",
       "      <td>225.899994</td>\n",
       "      <td>216.750000</td>\n",
       "      <td>201-250</td>\n",
       "    </tr>\n",
       "    <tr>\n",
       "      <th>3</th>\n",
       "      <td>217.500000</td>\n",
       "      <td>221.699997</td>\n",
       "      <td>211.889999</td>\n",
       "      <td>201-250</td>\n",
       "    </tr>\n",
       "    <tr>\n",
       "      <th>4</th>\n",
       "      <td>209.699997</td>\n",
       "      <td>212.699997</td>\n",
       "      <td>208.500000</td>\n",
       "      <td>201-250</td>\n",
       "    </tr>\n",
       "  </tbody>\n",
       "</table>\n",
       "</div>"
      ],
      "text/plain": [
       "         Open        High         Low Close_bins\n",
       "0  222.600006  225.300003  220.199997    201-250\n",
       "1  222.000000  224.565002  218.699997    201-250\n",
       "2  222.000000  225.899994  216.750000    201-250\n",
       "3  217.500000  221.699997  211.889999    201-250\n",
       "4  209.699997  212.699997  208.500000    201-250"
      ]
     },
     "execution_count": 25,
     "metadata": {},
     "output_type": "execute_result"
    }
   ],
   "source": [
    "data.head()"
   ]
  },
  {
   "cell_type": "code",
   "execution_count": 26,
   "metadata": {},
   "outputs": [],
   "source": [
    "X=data.drop(\"Close_bins\", axis=1)\n",
    "y=data[\"Close_bins\"]"
   ]
  },
  {
   "cell_type": "code",
   "execution_count": 27,
   "metadata": {},
   "outputs": [],
   "source": [
    "X_train, X_test, y_train, y_test=train_test_split(X, y, test_size=0.2, random_state=0)"
   ]
  },
  {
   "cell_type": "code",
   "execution_count": 28,
   "metadata": {},
   "outputs": [],
   "source": [
    "s=StandardScaler()\n",
    "X_train=s.fit_transform(X_train)\n",
    "X_test=s.transform(X_test)"
   ]
  },
  {
   "cell_type": "code",
   "execution_count": 29,
   "metadata": {},
   "outputs": [],
   "source": [
    "clf=svm.SVC()\n",
    "clf.fit(X_train, y_train)\n",
    "pred=clf.predict(X_test)"
   ]
  },
  {
   "cell_type": "code",
   "execution_count": 31,
   "metadata": {},
   "outputs": [
    {
     "name": "stdout",
     "output_type": "stream",
     "text": [
      "              precision    recall  f1-score   support\n",
      "\n",
      "     150-200       0.98      0.85      0.91        75\n",
      "     201-250       0.92      0.99      0.95       154\n",
      "     251-300       0.95      0.99      0.97       152\n",
      "     301-350       1.00      0.65      0.79        20\n",
      "\n",
      "   micro avg       0.95      0.95      0.95       401\n",
      "   macro avg       0.96      0.87      0.91       401\n",
      "weighted avg       0.95      0.95      0.94       401\n",
      "\n"
     ]
    }
   ],
   "source": [
    "print(classification_report(y_test, pred))"
   ]
  },
  {
   "cell_type": "code",
   "execution_count": 32,
   "metadata": {},
   "outputs": [
    {
     "name": "stdout",
     "output_type": "stream",
     "text": [
      "[[ 64  11   0   0]\n",
      " [  1 152   1   0]\n",
      " [  0   2 150   0]\n",
      " [  0   0   7  13]]\n"
     ]
    }
   ],
   "source": [
    "print(confusion_matrix(y_test,pred))"
   ]
  },
  {
   "cell_type": "code",
   "execution_count": 33,
   "metadata": {},
   "outputs": [
    {
     "name": "stdout",
     "output_type": "stream",
     "text": [
      "0.9451371571072319\n"
     ]
    }
   ],
   "source": [
    "print(accuracy_score(y_test, pred))"
   ]
  },
  {
   "cell_type": "code",
   "execution_count": 36,
   "metadata": {},
   "outputs": [],
   "source": [
    "a=[[209,212,208]]\n",
    "a=s.transform(a)\n",
    "b=clf.predict(a)"
   ]
  },
  {
   "cell_type": "code",
   "execution_count": 37,
   "metadata": {},
   "outputs": [
    {
     "data": {
      "text/plain": [
       "array(['201-250'], dtype=object)"
      ]
     },
     "execution_count": 37,
     "metadata": {},
     "output_type": "execute_result"
    }
   ],
   "source": [
    "b"
   ]
  },
  {
   "cell_type": "code",
   "execution_count": null,
   "metadata": {},
   "outputs": [],
   "source": []
  },
  {
   "cell_type": "code",
   "execution_count": null,
   "metadata": {},
   "outputs": [],
   "source": []
  }
 ],
 "metadata": {
  "kernelspec": {
   "display_name": "Python 3 (ipykernel)",
   "language": "python",
   "name": "python3"
  },
  "language_info": {
   "codemirror_mode": {
    "name": "ipython",
    "version": 3
   },
   "file_extension": ".py",
   "mimetype": "text/x-python",
   "name": "python",
   "nbconvert_exporter": "python",
   "pygments_lexer": "ipython3",
   "version": "3.9.13"
  }
 },
 "nbformat": 4,
 "nbformat_minor": 2
}
